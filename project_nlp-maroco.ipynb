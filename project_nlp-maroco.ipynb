{
 "cells": [
  {
   "cell_type": "code",
   "execution_count": 15,
   "id": "0244d064",
   "metadata": {},
   "outputs": [],
   "source": [
    "# utilities\n",
    "import numpy as np\n",
    "import pandas as pd\n",
    "\n",
    "# plotting\n",
    "import seaborn as sns\n",
    "from wordcloud import WordCloud\n",
    "import matplotlib.pyplot as plt\n",
    "\n",
    "# nltk\n",
    "from nltk.stem import WordNetLemmatizer\n",
    "import nltk\n",
    "from nltk.corpus import stopwords\n",
    "from nltk.classify import SklearnClassifier\n",
    "from  nltk.stem import SnowballStemmer\n",
    "# To identify the sentiment of text\n",
    "from textblob import TextBlob\n",
    "from textblob.sentiments import NaiveBayesAnalyzer\n",
    "from textblob.np_extractors import ConllExtractor\n",
    "\n",
    "\n",
    "# sklearn\n",
    "from sklearn.svm import LinearSVC\n",
    "from sklearn.naive_bayes import BernoulliNB\n",
    "from sklearn.linear_model import LogisticRegression\n",
    "\n",
    "from sklearn.model_selection import train_test_split\n",
    "from sklearn.feature_extraction.text import TfidfVectorizer\n",
    "from sklearn.metrics import confusion_matrix, classification_report\n",
    "from nltk.sentiment.vader import SentimentIntensityAnalyzer"
   ]
  },
  {
   "cell_type": "code",
   "execution_count": 16,
   "id": "74e02416",
   "metadata": {},
   "outputs": [
    {
     "data": {
      "text/html": [
       "<div>\n",
       "<style scoped>\n",
       "    .dataframe tbody tr th:only-of-type {\n",
       "        vertical-align: middle;\n",
       "    }\n",
       "\n",
       "    .dataframe tbody tr th {\n",
       "        vertical-align: top;\n",
       "    }\n",
       "\n",
       "    .dataframe thead th {\n",
       "        text-align: right;\n",
       "    }\n",
       "</style>\n",
       "<table border=\"1\" class=\"dataframe\">\n",
       "  <thead>\n",
       "    <tr style=\"text-align: right;\">\n",
       "      <th></th>\n",
       "      <th>id</th>\n",
       "      <th>date</th>\n",
       "      <th>text</th>\n",
       "    </tr>\n",
       "  </thead>\n",
       "  <tbody>\n",
       "    <tr>\n",
       "      <th>0</th>\n",
       "      <td>1601953292271161345</td>\n",
       "      <td>2022-12-11 14:53:22+00:00</td>\n",
       "      <td>@elonmusk Marocco will win this world cup</td>\n",
       "    </tr>\n",
       "    <tr>\n",
       "      <th>1</th>\n",
       "      <td>1601948137358299137</td>\n",
       "      <td>2022-12-11 14:32:53+00:00</td>\n",
       "      <td>Best final for the World Cup 2022? Croatia and...</td>\n",
       "    </tr>\n",
       "    <tr>\n",
       "      <th>2</th>\n",
       "      <td>1601943320640585730</td>\n",
       "      <td>2022-12-11 14:13:44+00:00</td>\n",
       "      <td>I might lean marocco to win the world cup at t...</td>\n",
       "    </tr>\n",
       "    <tr>\n",
       "      <th>3</th>\n",
       "      <td>1601941656215117825</td>\n",
       "      <td>2022-12-11 14:07:08+00:00</td>\n",
       "      <td>🔵 Le Maroc est deuxième pays musulman après la...</td>\n",
       "    </tr>\n",
       "    <tr>\n",
       "      <th>4</th>\n",
       "      <td>1601936788809027584</td>\n",
       "      <td>2022-12-11 13:47:47+00:00</td>\n",
       "      <td>He destroyed even our dream to watch #CR7𓃵 pla...</td>\n",
       "    </tr>\n",
       "    <tr>\n",
       "      <th>...</th>\n",
       "      <td>...</td>\n",
       "      <td>...</td>\n",
       "      <td>...</td>\n",
       "    </tr>\n",
       "    <tr>\n",
       "      <th>626</th>\n",
       "      <td>1599829992602755074</td>\n",
       "      <td>2022-12-05 18:16:08+00:00</td>\n",
       "      <td>What if Marocco wins the World Cup? Against al...</td>\n",
       "    </tr>\n",
       "    <tr>\n",
       "      <th>627</th>\n",
       "      <td>1599795758286647297</td>\n",
       "      <td>2022-12-05 16:00:06+00:00</td>\n",
       "      <td>Japan - Marocco World Cup Final written in the...</td>\n",
       "    </tr>\n",
       "    <tr>\n",
       "      <th>628</th>\n",
       "      <td>1599793309987524608</td>\n",
       "      <td>2022-12-05 15:50:22+00:00</td>\n",
       "      <td>Spain vs Marocco Line Up FIFA World Cup 2022, ...</td>\n",
       "    </tr>\n",
       "    <tr>\n",
       "      <th>629</th>\n",
       "      <td>1599738406342230016</td>\n",
       "      <td>2022-12-05 12:12:12+00:00</td>\n",
       "      <td>Wild take but World Cup semifinal will be Arge...</td>\n",
       "    </tr>\n",
       "    <tr>\n",
       "      <th>630</th>\n",
       "      <td>1599694387646443521</td>\n",
       "      <td>2022-12-05 09:17:17+00:00</td>\n",
       "      <td>World cup 2022 - currently four teams in last ...</td>\n",
       "    </tr>\n",
       "  </tbody>\n",
       "</table>\n",
       "<p>631 rows × 3 columns</p>\n",
       "</div>"
      ],
      "text/plain": [
       "                      id                       date  \\\n",
       "0    1601953292271161345  2022-12-11 14:53:22+00:00   \n",
       "1    1601948137358299137  2022-12-11 14:32:53+00:00   \n",
       "2    1601943320640585730  2022-12-11 14:13:44+00:00   \n",
       "3    1601941656215117825  2022-12-11 14:07:08+00:00   \n",
       "4    1601936788809027584  2022-12-11 13:47:47+00:00   \n",
       "..                   ...                        ...   \n",
       "626  1599829992602755074  2022-12-05 18:16:08+00:00   \n",
       "627  1599795758286647297  2022-12-05 16:00:06+00:00   \n",
       "628  1599793309987524608  2022-12-05 15:50:22+00:00   \n",
       "629  1599738406342230016  2022-12-05 12:12:12+00:00   \n",
       "630  1599694387646443521  2022-12-05 09:17:17+00:00   \n",
       "\n",
       "                                                  text  \n",
       "0            @elonmusk Marocco will win this world cup  \n",
       "1    Best final for the World Cup 2022? Croatia and...  \n",
       "2    I might lean marocco to win the world cup at t...  \n",
       "3    🔵 Le Maroc est deuxième pays musulman après la...  \n",
       "4    He destroyed even our dream to watch #CR7𓃵 pla...  \n",
       "..                                                 ...  \n",
       "626  What if Marocco wins the World Cup? Against al...  \n",
       "627  Japan - Marocco World Cup Final written in the...  \n",
       "628  Spain vs Marocco Line Up FIFA World Cup 2022, ...  \n",
       "629  Wild take but World Cup semifinal will be Arge...  \n",
       "630  World cup 2022 - currently four teams in last ...  \n",
       "\n",
       "[631 rows x 3 columns]"
      ]
     },
     "execution_count": 16,
     "metadata": {},
     "output_type": "execute_result"
    }
   ],
   "source": [
    "#Load Dataset\n",
    "df = pd.read_csv('maroko_worldcup.csv')\n",
    "df"
   ]
  },
  {
   "cell_type": "code",
   "execution_count": null,
   "id": "00031cee",
   "metadata": {},
   "outputs": [],
   "source": []
  },
  {
   "cell_type": "markdown",
   "id": "81e4e725",
   "metadata": {},
   "source": [
    "# Labeling Dataset"
   ]
  },
  {
   "cell_type": "code",
   "execution_count": 17,
   "id": "939481ac",
   "metadata": {},
   "outputs": [],
   "source": [
    "#With Sentiment Intensity Analyzer\n",
    "def fetch_sentiment_using_SIA(text):\n",
    "    sid = SentimentIntensityAnalyzer()\n",
    "    polarity_scores = sid.polarity_scores(text)\n",
    "    return 'neg' if polarity_scores['neg'] > polarity_scores['pos'] else 'pos'\n",
    "\n",
    "#With TextBlob\n",
    "def fetch_sentiment_using_textblob(text):\n",
    "    analysis = TextBlob(text)\n",
    "    return 'pos' if analysis.sentiment.polarity >= 0 else 'neg'"
   ]
  },
  {
   "cell_type": "code",
   "execution_count": 18,
   "id": "7df7f831",
   "metadata": {},
   "outputs": [
    {
     "data": {
      "text/html": [
       "<div>\n",
       "<style scoped>\n",
       "    .dataframe tbody tr th:only-of-type {\n",
       "        vertical-align: middle;\n",
       "    }\n",
       "\n",
       "    .dataframe tbody tr th {\n",
       "        vertical-align: top;\n",
       "    }\n",
       "\n",
       "    .dataframe thead th {\n",
       "        text-align: right;\n",
       "    }\n",
       "</style>\n",
       "<table border=\"1\" class=\"dataframe\">\n",
       "  <thead>\n",
       "    <tr style=\"text-align: right;\">\n",
       "      <th></th>\n",
       "      <th>text</th>\n",
       "    </tr>\n",
       "  </thead>\n",
       "  <tbody>\n",
       "    <tr>\n",
       "      <th>pos</th>\n",
       "      <td>563</td>\n",
       "    </tr>\n",
       "    <tr>\n",
       "      <th>neg</th>\n",
       "      <td>68</td>\n",
       "    </tr>\n",
       "  </tbody>\n",
       "</table>\n",
       "</div>"
      ],
      "text/plain": [
       "     text\n",
       "pos   563\n",
       "neg    68"
      ]
     },
     "execution_count": 18,
     "metadata": {},
     "output_type": "execute_result"
    }
   ],
   "source": [
    "sentiments_using_SIA = df['text'].apply(lambda tweet: fetch_sentiment_using_SIA(tweet))\n",
    "pd.DataFrame(sentiments_using_SIA.value_counts())"
   ]
  },
  {
   "cell_type": "code",
   "execution_count": 19,
   "id": "a8cc45bf",
   "metadata": {},
   "outputs": [
    {
     "data": {
      "text/html": [
       "<div>\n",
       "<style scoped>\n",
       "    .dataframe tbody tr th:only-of-type {\n",
       "        vertical-align: middle;\n",
       "    }\n",
       "\n",
       "    .dataframe tbody tr th {\n",
       "        vertical-align: top;\n",
       "    }\n",
       "\n",
       "    .dataframe thead th {\n",
       "        text-align: right;\n",
       "    }\n",
       "</style>\n",
       "<table border=\"1\" class=\"dataframe\">\n",
       "  <thead>\n",
       "    <tr style=\"text-align: right;\">\n",
       "      <th></th>\n",
       "      <th>text</th>\n",
       "    </tr>\n",
       "  </thead>\n",
       "  <tbody>\n",
       "    <tr>\n",
       "      <th>pos</th>\n",
       "      <td>577</td>\n",
       "    </tr>\n",
       "    <tr>\n",
       "      <th>neg</th>\n",
       "      <td>54</td>\n",
       "    </tr>\n",
       "  </tbody>\n",
       "</table>\n",
       "</div>"
      ],
      "text/plain": [
       "     text\n",
       "pos   577\n",
       "neg    54"
      ]
     },
     "execution_count": 19,
     "metadata": {},
     "output_type": "execute_result"
    }
   ],
   "source": [
    "sentiments_using_textblob = df['text'].apply(lambda tweet: fetch_sentiment_using_textblob(tweet))\n",
    "pd.DataFrame(sentiments_using_textblob.value_counts())"
   ]
  },
  {
   "cell_type": "markdown",
   "id": "fe480224",
   "metadata": {},
   "source": [
    "We'll use Sentiment Insensity Analyzer (Vader), cause it gives us more negatif sentiments than TextBlob"
   ]
  },
  {
   "cell_type": "code",
   "execution_count": 20,
   "id": "2e9b26c8",
   "metadata": {},
   "outputs": [
    {
     "data": {
      "text/html": [
       "<div>\n",
       "<style scoped>\n",
       "    .dataframe tbody tr th:only-of-type {\n",
       "        vertical-align: middle;\n",
       "    }\n",
       "\n",
       "    .dataframe tbody tr th {\n",
       "        vertical-align: top;\n",
       "    }\n",
       "\n",
       "    .dataframe thead th {\n",
       "        text-align: right;\n",
       "    }\n",
       "</style>\n",
       "<table border=\"1\" class=\"dataframe\">\n",
       "  <thead>\n",
       "    <tr style=\"text-align: right;\">\n",
       "      <th></th>\n",
       "      <th>id</th>\n",
       "      <th>date</th>\n",
       "      <th>text</th>\n",
       "      <th>target</th>\n",
       "    </tr>\n",
       "  </thead>\n",
       "  <tbody>\n",
       "    <tr>\n",
       "      <th>512</th>\n",
       "      <td>1600373187518164992</td>\n",
       "      <td>2022-12-07 06:14:36+00:00</td>\n",
       "      <td>E chiudiamo con le notizie sportive che trovan...</td>\n",
       "      <td>pos</td>\n",
       "    </tr>\n",
       "    <tr>\n",
       "      <th>478</th>\n",
       "      <td>1600584671569403904</td>\n",
       "      <td>2022-12-07 20:14:57+00:00</td>\n",
       "      <td>@StokeLoudProud If it was a playoff match or i...</td>\n",
       "      <td>neg</td>\n",
       "    </tr>\n",
       "    <tr>\n",
       "      <th>288</th>\n",
       "      <td>1601623605082980352</td>\n",
       "      <td>2022-12-10 17:03:18+00:00</td>\n",
       "      <td>I hope Marocco win the world cup! Writing hist...</td>\n",
       "      <td>pos</td>\n",
       "    </tr>\n",
       "    <tr>\n",
       "      <th>414</th>\n",
       "      <td>1601486302301429761</td>\n",
       "      <td>2022-12-10 07:57:43+00:00</td>\n",
       "      <td>so france and marocco needs to win tonight i w...</td>\n",
       "      <td>pos</td>\n",
       "    </tr>\n",
       "    <tr>\n",
       "      <th>466</th>\n",
       "      <td>1600811228594458625</td>\n",
       "      <td>2022-12-08 11:15:13+00:00</td>\n",
       "      <td>@dindabung @Aprilmyoracle Marocco's Players Pl...</td>\n",
       "      <td>pos</td>\n",
       "    </tr>\n",
       "    <tr>\n",
       "      <th>400</th>\n",
       "      <td>1601566715011559424</td>\n",
       "      <td>2022-12-10 13:17:15+00:00</td>\n",
       "      <td>7 Live Streaming Free, Prediksi Line Up Marocc...</td>\n",
       "      <td>pos</td>\n",
       "    </tr>\n",
       "    <tr>\n",
       "      <th>301</th>\n",
       "      <td>1601623226102140930</td>\n",
       "      <td>2022-12-10 17:01:48+00:00</td>\n",
       "      <td>marocco winning the world cup btw</td>\n",
       "      <td>pos</td>\n",
       "    </tr>\n",
       "    <tr>\n",
       "      <th>6</th>\n",
       "      <td>1601929636103028739</td>\n",
       "      <td>2022-12-11 13:19:22+00:00</td>\n",
       "      <td>@nocontextfooty Marocco is the Italy of this W...</td>\n",
       "      <td>pos</td>\n",
       "    </tr>\n",
       "    <tr>\n",
       "      <th>629</th>\n",
       "      <td>1599738406342230016</td>\n",
       "      <td>2022-12-05 12:12:12+00:00</td>\n",
       "      <td>Wild take but World Cup semifinal will be Arge...</td>\n",
       "      <td>pos</td>\n",
       "    </tr>\n",
       "    <tr>\n",
       "      <th>568</th>\n",
       "      <td>1600187272627822592</td>\n",
       "      <td>2022-12-06 17:55:50+00:00</td>\n",
       "      <td>haizz!!!🙄🙄🙄\\nlại dự đoán đúng rồi 🫢 🫢😤😤😤\\nCHÚC...</td>\n",
       "      <td>pos</td>\n",
       "    </tr>\n",
       "    <tr>\n",
       "      <th>505</th>\n",
       "      <td>1600419636326998016</td>\n",
       "      <td>2022-12-07 09:19:10+00:00</td>\n",
       "      <td>@UsherKomugisha Here some other great news abo...</td>\n",
       "      <td>pos</td>\n",
       "    </tr>\n",
       "    <tr>\n",
       "      <th>615</th>\n",
       "      <td>1600005802101985280</td>\n",
       "      <td>2022-12-06 05:54:44+00:00</td>\n",
       "      <td>@investorgabut Final World Cup 2022\\nBrazil 1 ...</td>\n",
       "      <td>pos</td>\n",
       "    </tr>\n",
       "    <tr>\n",
       "      <th>357</th>\n",
       "      <td>1601621892019802113</td>\n",
       "      <td>2022-12-10 16:56:30+00:00</td>\n",
       "      <td>🔴 IL MAROCCO DI #CHEDDIRA VOLA IN SEMIFINALE!\\...</td>\n",
       "      <td>pos</td>\n",
       "    </tr>\n",
       "    <tr>\n",
       "      <th>97</th>\n",
       "      <td>1601702790480678913</td>\n",
       "      <td>2022-12-10 22:17:58+00:00</td>\n",
       "      <td>Aku memang tim sukses tetap Prancis dari 2018,...</td>\n",
       "      <td>pos</td>\n",
       "    </tr>\n",
       "    <tr>\n",
       "      <th>520</th>\n",
       "      <td>1600281040488394753</td>\n",
       "      <td>2022-12-07 00:08:26+00:00</td>\n",
       "      <td>@UtdFaithfuls One of the new surprises in this...</td>\n",
       "      <td>pos</td>\n",
       "    </tr>\n",
       "    <tr>\n",
       "      <th>138</th>\n",
       "      <td>1601677527680159744</td>\n",
       "      <td>2022-12-10 20:37:34+00:00</td>\n",
       "      <td>Good Luck for the Marocco's soccer team semi f...</td>\n",
       "      <td>pos</td>\n",
       "    </tr>\n",
       "    <tr>\n",
       "      <th>524</th>\n",
       "      <td>1600261070081298432</td>\n",
       "      <td>2022-12-06 22:49:05+00:00</td>\n",
       "      <td>Today, December 6th.\\nTwo Manchester United pl...</td>\n",
       "      <td>pos</td>\n",
       "    </tr>\n",
       "    <tr>\n",
       "      <th>316</th>\n",
       "      <td>1601622815157145600</td>\n",
       "      <td>2022-12-10 17:00:10+00:00</td>\n",
       "      <td>Marocco bisa bisa yg menang world cup ini mah</td>\n",
       "      <td>pos</td>\n",
       "    </tr>\n",
       "    <tr>\n",
       "      <th>611</th>\n",
       "      <td>1600112187371974656</td>\n",
       "      <td>2022-12-06 12:57:28+00:00</td>\n",
       "      <td>@RaffaNapoli83 Marocco 🇲🇦 2 Spagna 🇪🇸 2- Spagn...</td>\n",
       "      <td>pos</td>\n",
       "    </tr>\n",
       "    <tr>\n",
       "      <th>215</th>\n",
       "      <td>1601631237684498433</td>\n",
       "      <td>2022-12-10 17:33:38+00:00</td>\n",
       "      <td>@aaaaaammmee @theMadridZone Istg like lets be ...</td>\n",
       "      <td>pos</td>\n",
       "    </tr>\n",
       "  </tbody>\n",
       "</table>\n",
       "</div>"
      ],
      "text/plain": [
       "                      id                       date  \\\n",
       "512  1600373187518164992  2022-12-07 06:14:36+00:00   \n",
       "478  1600584671569403904  2022-12-07 20:14:57+00:00   \n",
       "288  1601623605082980352  2022-12-10 17:03:18+00:00   \n",
       "414  1601486302301429761  2022-12-10 07:57:43+00:00   \n",
       "466  1600811228594458625  2022-12-08 11:15:13+00:00   \n",
       "400  1601566715011559424  2022-12-10 13:17:15+00:00   \n",
       "301  1601623226102140930  2022-12-10 17:01:48+00:00   \n",
       "6    1601929636103028739  2022-12-11 13:19:22+00:00   \n",
       "629  1599738406342230016  2022-12-05 12:12:12+00:00   \n",
       "568  1600187272627822592  2022-12-06 17:55:50+00:00   \n",
       "505  1600419636326998016  2022-12-07 09:19:10+00:00   \n",
       "615  1600005802101985280  2022-12-06 05:54:44+00:00   \n",
       "357  1601621892019802113  2022-12-10 16:56:30+00:00   \n",
       "97   1601702790480678913  2022-12-10 22:17:58+00:00   \n",
       "520  1600281040488394753  2022-12-07 00:08:26+00:00   \n",
       "138  1601677527680159744  2022-12-10 20:37:34+00:00   \n",
       "524  1600261070081298432  2022-12-06 22:49:05+00:00   \n",
       "316  1601622815157145600  2022-12-10 17:00:10+00:00   \n",
       "611  1600112187371974656  2022-12-06 12:57:28+00:00   \n",
       "215  1601631237684498433  2022-12-10 17:33:38+00:00   \n",
       "\n",
       "                                                  text target  \n",
       "512  E chiudiamo con le notizie sportive che trovan...    pos  \n",
       "478  @StokeLoudProud If it was a playoff match or i...    neg  \n",
       "288  I hope Marocco win the world cup! Writing hist...    pos  \n",
       "414  so france and marocco needs to win tonight i w...    pos  \n",
       "466  @dindabung @Aprilmyoracle Marocco's Players Pl...    pos  \n",
       "400  7 Live Streaming Free, Prediksi Line Up Marocc...    pos  \n",
       "301                  marocco winning the world cup btw    pos  \n",
       "6    @nocontextfooty Marocco is the Italy of this W...    pos  \n",
       "629  Wild take but World Cup semifinal will be Arge...    pos  \n",
       "568  haizz!!!🙄🙄🙄\\nlại dự đoán đúng rồi 🫢 🫢😤😤😤\\nCHÚC...    pos  \n",
       "505  @UsherKomugisha Here some other great news abo...    pos  \n",
       "615  @investorgabut Final World Cup 2022\\nBrazil 1 ...    pos  \n",
       "357  🔴 IL MAROCCO DI #CHEDDIRA VOLA IN SEMIFINALE!\\...    pos  \n",
       "97   Aku memang tim sukses tetap Prancis dari 2018,...    pos  \n",
       "520  @UtdFaithfuls One of the new surprises in this...    pos  \n",
       "138  Good Luck for the Marocco's soccer team semi f...    pos  \n",
       "524  Today, December 6th.\\nTwo Manchester United pl...    pos  \n",
       "316      Marocco bisa bisa yg menang world cup ini mah    pos  \n",
       "611  @RaffaNapoli83 Marocco 🇲🇦 2 Spagna 🇪🇸 2- Spagn...    pos  \n",
       "215  @aaaaaammmee @theMadridZone Istg like lets be ...    pos  "
      ]
     },
     "execution_count": 20,
     "metadata": {},
     "output_type": "execute_result"
    }
   ],
   "source": [
    "df['target'] = sentiments_using_SIA\n",
    "df.sample(20)"
   ]
  },
  {
   "cell_type": "code",
   "execution_count": 21,
   "id": "12c247c6",
   "metadata": {},
   "outputs": [
    {
     "data": {
      "image/png": "[encoded data removed]",
      "text/plain": [
       "<Figure size 1080x360 with 2 Axes>"
      ]
     },
     "metadata": {
      "needs_background": "light"
     },
     "output_type": "display_data"
    }
   ],
   "source": [
    "#Visualizing Sentiment feature - Target feature\n",
    "plt.figure(figsize=(15,5))\n",
    "plt.suptitle(\"Label Distribution\")\n",
    "\n",
    "#plot pie chart\n",
    "plt.subplot(1,2,1)\n",
    "label = df['target'].value_counts().index\n",
    "label_count = df['target'].value_counts().values\n",
    "plt.pie(data=df, x=label_count, labels=label, autopct='%1.1f%%', shadow=True, radius=1.5)\n",
    "\n",
    "#plot countplot\n",
    "plt.subplot(1,2,2)\n",
    "ax = sns.countplot(x='target', data=df, order=label)\n",
    "for p in ax.patches:\n",
    "    height=p.get_height()\n",
    "    ax.text(x=p.get_x()+(p.get_width()/2),\n",
    "    y=height+0.2,ha='center',s='{:.0f}'.format(height))\n",
    "plt.show()"
   ]
  },
  {
   "cell_type": "markdown",
   "id": "b1c013dd",
   "metadata": {},
   "source": [
    "# Data Preprocessing"
   ]
  },
  {
   "cell_type": "code",
   "execution_count": 22,
   "id": "0713a9f5",
   "metadata": {},
   "outputs": [],
   "source": [
    "lm = nltk.WordNetLemmatizer()\n",
    "stemmer = SnowballStemmer(\"english\")\n",
    "stop_words = stopwords.words(\"english\")\n",
    "\n",
    "def dataPreprocessing(tweet, method=\"stem\"):\n",
    "    if type(tweet) == np.float64:\n",
    "        return \"\"\n",
    "    temp = tweet.lower()\n",
    "    temp = re.sub(\"'\", \"\", temp) \n",
    "    temp = re.sub(\"@[\\s][A-Za-z0-9_]+\",\"\", temp) \n",
    "    temp = re.sub(\"@[A-Za-z0-9_]+\",\"\", temp) \n",
    "    temp = re.sub(\"#[A-Za-z0-9_]+\",\"\", temp) \n",
    "    temp = re.sub(r'http\\S+', '', temp) \n",
    "    temp = re.sub('[()!?]', ' ', temp)\n",
    "    temp = re.sub('\\[.*?\\]',' ', temp)\n",
    "    temp = re.sub(\"[^a-z0-9]\",\" \", temp)\n",
    "    temp = EMOJI_PATTERN.sub(r'', temp)\n",
    "    temp =  NUMBERING_PATTERN.sub('', temp)\n",
    "    temp = re.sub(r\"(.)1{2,}\",  r'11', temp)\n",
    "\n",
    "    tokens = []\n",
    "    for token in temp.split():\n",
    "      if token not in stop_words:\n",
    "          if method == \"stem\":\n",
    "              tokens.append(stemmer.stem(token)) # Stemming\n",
    "          elif method == \"lemma\":\n",
    "              tokens.append(lm.lemmatize(token)) # Lemmatize\n",
    "          else:\n",
    "              tokens.append(token)\n",
    "    return \" \".join(tokens)"
   ]
  },
  {
   "cell_type": "code",
   "execution_count": 23,
   "id": "016b82c6",
   "metadata": {},
   "outputs": [],
   "source": [
    " #utils\n",
    "import re\n",
    "\n",
    "    \n",
    "EMOJI_PATTERN = re.compile(\n",
    "    \"[\"\n",
    "    u\"U0001F600-U0001F64F\"  # emoticons\n",
    "    u\"U0001F300-U0001F5FF\"  # symbols & pictographs\n",
    "    u\"U0001F680-U0001F6FF\"  # transport & map symbols\n",
    "    u\"U0001F1E0-U0001F1FF\"  # flags (iOS)\n",
    "    u\"U00002702-U000027B0\"\n",
    "    u\"U000024C2-U0001F251\"\n",
    "    \"]+\", flags=re.UNICODE\n",
    ")\n",
    "NUMBERING_PATTERN = re.compile('d+(?:st|[nr]d|th)')"
   ]
  },
  {
   "cell_type": "code",
   "execution_count": 24,
   "id": "055f587c",
   "metadata": {},
   "outputs": [],
   "source": [
    "df['clean_text'] = df['text'].apply(lambda x: dataPreprocessing(x, method=\"lemma\"))"
   ]
  },
  {
   "cell_type": "code",
   "execution_count": 25,
   "id": "f5cbb730",
   "metadata": {},
   "outputs": [
    {
     "data": {
      "text/html": [
       "<div>\n",
       "<style scoped>\n",
       "    .dataframe tbody tr th:only-of-type {\n",
       "        vertical-align: middle;\n",
       "    }\n",
       "\n",
       "    .dataframe tbody tr th {\n",
       "        vertical-align: top;\n",
       "    }\n",
       "\n",
       "    .dataframe thead th {\n",
       "        text-align: right;\n",
       "    }\n",
       "</style>\n",
       "<table border=\"1\" class=\"dataframe\">\n",
       "  <thead>\n",
       "    <tr style=\"text-align: right;\">\n",
       "      <th></th>\n",
       "      <th>id</th>\n",
       "      <th>date</th>\n",
       "      <th>text</th>\n",
       "      <th>target</th>\n",
       "      <th>clean_text</th>\n",
       "    </tr>\n",
       "  </thead>\n",
       "  <tbody>\n",
       "    <tr>\n",
       "      <th>0</th>\n",
       "      <td>1601953292271161345</td>\n",
       "      <td>2022-12-11 14:53:22+00:00</td>\n",
       "      <td>@elonmusk Marocco will win this world cup</td>\n",
       "      <td>pos</td>\n",
       "      <td>marocco win world cup</td>\n",
       "    </tr>\n",
       "    <tr>\n",
       "      <th>1</th>\n",
       "      <td>1601948137358299137</td>\n",
       "      <td>2022-12-11 14:32:53+00:00</td>\n",
       "      <td>Best final for the World Cup 2022? Croatia and...</td>\n",
       "      <td>pos</td>\n",
       "      <td>best final world cup croatia marocco melhor fi...</td>\n",
       "    </tr>\n",
       "    <tr>\n",
       "      <th>2</th>\n",
       "      <td>1601943320640585730</td>\n",
       "      <td>2022-12-11 14:13:44+00:00</td>\n",
       "      <td>I might lean marocco to win the world cup at t...</td>\n",
       "      <td>pos</td>\n",
       "      <td>might lean marocco win world cup point argenti...</td>\n",
       "    </tr>\n",
       "    <tr>\n",
       "      <th>3</th>\n",
       "      <td>1601941656215117825</td>\n",
       "      <td>2022-12-11 14:07:08+00:00</td>\n",
       "      <td>🔵 Le Maroc est deuxième pays musulman après la...</td>\n",
       "      <td>pos</td>\n",
       "      <td>le maroc est deuxi pay musulman apr la turquie...</td>\n",
       "    </tr>\n",
       "    <tr>\n",
       "      <th>4</th>\n",
       "      <td>1601936788809027584</td>\n",
       "      <td>2022-12-11 13:47:47+00:00</td>\n",
       "      <td>He destroyed even our dream to watch #CR7𓃵 pla...</td>\n",
       "      <td>pos</td>\n",
       "      <td>destroyed even dream watch play last world cup...</td>\n",
       "    </tr>\n",
       "    <tr>\n",
       "      <th>...</th>\n",
       "      <td>...</td>\n",
       "      <td>...</td>\n",
       "      <td>...</td>\n",
       "      <td>...</td>\n",
       "      <td>...</td>\n",
       "    </tr>\n",
       "    <tr>\n",
       "      <th>626</th>\n",
       "      <td>1599829992602755074</td>\n",
       "      <td>2022-12-05 18:16:08+00:00</td>\n",
       "      <td>What if Marocco wins the World Cup? Against al...</td>\n",
       "      <td>pos</td>\n",
       "      <td>marocco win world cup odds possible considerin...</td>\n",
       "    </tr>\n",
       "    <tr>\n",
       "      <th>627</th>\n",
       "      <td>1599795758286647297</td>\n",
       "      <td>2022-12-05 16:00:06+00:00</td>\n",
       "      <td>Japan - Marocco World Cup Final written in the...</td>\n",
       "      <td>pos</td>\n",
       "      <td>japan marocco world cup final written star</td>\n",
       "    </tr>\n",
       "    <tr>\n",
       "      <th>628</th>\n",
       "      <td>1599793309987524608</td>\n",
       "      <td>2022-12-05 15:50:22+00:00</td>\n",
       "      <td>Spain vs Marocco Line Up FIFA World Cup 2022, ...</td>\n",
       "      <td>pos</td>\n",
       "      <td>spain v marocco line fifa world cup spanyol si...</td>\n",
       "    </tr>\n",
       "    <tr>\n",
       "      <th>629</th>\n",
       "      <td>1599738406342230016</td>\n",
       "      <td>2022-12-05 12:12:12+00:00</td>\n",
       "      <td>Wild take but World Cup semifinal will be Arge...</td>\n",
       "      <td>pos</td>\n",
       "      <td>wild take world cup semifinal argentina v japa...</td>\n",
       "    </tr>\n",
       "    <tr>\n",
       "      <th>630</th>\n",
       "      <td>1599694387646443521</td>\n",
       "      <td>2022-12-05 09:17:17+00:00</td>\n",
       "      <td>World cup 2022 - currently four teams in last ...</td>\n",
       "      <td>neg</td>\n",
       "      <td>world cup currently four team last giant game ...</td>\n",
       "    </tr>\n",
       "  </tbody>\n",
       "</table>\n",
       "<p>631 rows × 5 columns</p>\n",
       "</div>"
      ],
      "text/plain": [
       "                      id                       date  \\\n",
       "0    1601953292271161345  2022-12-11 14:53:22+00:00   \n",
       "1    1601948137358299137  2022-12-11 14:32:53+00:00   \n",
       "2    1601943320640585730  2022-12-11 14:13:44+00:00   \n",
       "3    1601941656215117825  2022-12-11 14:07:08+00:00   \n",
       "4    1601936788809027584  2022-12-11 13:47:47+00:00   \n",
       "..                   ...                        ...   \n",
       "626  1599829992602755074  2022-12-05 18:16:08+00:00   \n",
       "627  1599795758286647297  2022-12-05 16:00:06+00:00   \n",
       "628  1599793309987524608  2022-12-05 15:50:22+00:00   \n",
       "629  1599738406342230016  2022-12-05 12:12:12+00:00   \n",
       "630  1599694387646443521  2022-12-05 09:17:17+00:00   \n",
       "\n",
       "                                                  text target  \\\n",
       "0            @elonmusk Marocco will win this world cup    pos   \n",
       "1    Best final for the World Cup 2022? Croatia and...    pos   \n",
       "2    I might lean marocco to win the world cup at t...    pos   \n",
       "3    🔵 Le Maroc est deuxième pays musulman après la...    pos   \n",
       "4    He destroyed even our dream to watch #CR7𓃵 pla...    pos   \n",
       "..                                                 ...    ...   \n",
       "626  What if Marocco wins the World Cup? Against al...    pos   \n",
       "627  Japan - Marocco World Cup Final written in the...    pos   \n",
       "628  Spain vs Marocco Line Up FIFA World Cup 2022, ...    pos   \n",
       "629  Wild take but World Cup semifinal will be Arge...    pos   \n",
       "630  World cup 2022 - currently four teams in last ...    neg   \n",
       "\n",
       "                                            clean_text  \n",
       "0                                marocco win world cup  \n",
       "1    best final world cup croatia marocco melhor fi...  \n",
       "2    might lean marocco win world cup point argenti...  \n",
       "3    le maroc est deuxi pay musulman apr la turquie...  \n",
       "4    destroyed even dream watch play last world cup...  \n",
       "..                                                 ...  \n",
       "626  marocco win world cup odds possible considerin...  \n",
       "627         japan marocco world cup final written star  \n",
       "628  spain v marocco line fifa world cup spanyol si...  \n",
       "629  wild take world cup semifinal argentina v japa...  \n",
       "630  world cup currently four team last giant game ...  \n",
       "\n",
       "[631 rows x 5 columns]"
      ]
     },
     "execution_count": 25,
     "metadata": {},
     "output_type": "execute_result"
    }
   ],
   "source": [
    "df"
   ]
  },
  {
   "cell_type": "code",
   "execution_count": 26,
   "id": "1a497b59",
   "metadata": {},
   "outputs": [
    {
     "data": {
      "text/plain": [
       "0                                  marocco win world cup\n",
       "1      best final world cup croatia marocco melhor fi...\n",
       "2      might lean marocco win world cup point argenti...\n",
       "3      le maroc est deuxi pay musulman apr la turquie...\n",
       "4      destroyed even dream watch play last world cup...\n",
       "                             ...                        \n",
       "626    marocco win world cup odds possible considerin...\n",
       "627           japan marocco world cup final written star\n",
       "628    spain v marocco line fifa world cup spanyol si...\n",
       "629    wild take world cup semifinal argentina v japa...\n",
       "630    world cup currently four team last giant game ...\n",
       "Name: clean_text, Length: 631, dtype: object"
      ]
     },
     "execution_count": 26,
     "metadata": {},
     "output_type": "execute_result"
    }
   ],
   "source": [
    "df['clean_text']"
   ]
  },
  {
   "cell_type": "code",
   "execution_count": 27,
   "id": "17b6aa3e",
   "metadata": {},
   "outputs": [
    {
     "data": {
      "text/plain": [
       "(504,)"
      ]
     },
     "execution_count": 27,
     "metadata": {},
     "output_type": "execute_result"
    }
   ],
   "source": [
    "from sklearn.model_selection import train_test_split\n",
    "\n",
    "X = df['clean_text']\n",
    "y = df['target'].apply(lambda x: 0 if x=='neg' else 1)\n",
    "\n",
    "X_train, X_test, y_train, y_test = train_test_split(X, y, test_size = 0.2, random_state = 42)\n",
    "\n",
    "X_train.shape"
   ]
  },
  {
   "cell_type": "markdown",
   "id": "274146cc",
   "metadata": {},
   "source": [
    "# Feature Extraction and TFIDF"
   ]
  },
  {
   "cell_type": "code",
   "execution_count": 28,
   "id": "b5da056a",
   "metadata": {},
   "outputs": [
    {
     "name": "stdout",
     "output_type": "stream",
     "text": [
      "No. of feature_words:  10139\n"
     ]
    },
    {
     "name": "stderr",
     "output_type": "stream",
     "text": [
      "C:\\Users\\Nab\\AppData\\Roaming\\Python\\Python39\\site-packages\\sklearn\\utils\\deprecation.py:87: FutureWarning: Function get_feature_names is deprecated; get_feature_names is deprecated in 1.0 and will be removed in 1.2. Please use get_feature_names_out instead.\n",
      "  warnings.warn(msg, category=FutureWarning)\n"
     ]
    }
   ],
   "source": [
    "vectorizer = TfidfVectorizer(ngram_range=(1,3), max_features=200000)\n",
    "vectorizer.fit(X_train)\n",
    "print('No. of feature_words: ', len(vectorizer.get_feature_names()))\n",
    "\n",
    "X_train = vectorizer.transform(X_train)\n",
    "X_test = vectorizer.transform(X_test)"
   ]
  },
  {
   "cell_type": "code",
   "execution_count": 29,
   "id": "68dc9725",
   "metadata": {},
   "outputs": [],
   "source": [
    "from imblearn.over_sampling import SMOTE\n",
    "\n",
    "oversample = SMOTE()\n",
    "X_train, y_train = oversample.fit_resample(X_train, y_train)"
   ]
  },
  {
   "cell_type": "code",
   "execution_count": null,
   "id": "1e00efe0",
   "metadata": {},
   "outputs": [],
   "source": [
    "X_train.()"
   ]
  },
  {
   "cell_type": "markdown",
   "id": "6a2ecdfc",
   "metadata": {},
   "source": [
    "# Modeling"
   ]
  },
  {
   "cell_type": "code",
   "execution_count": 51,
   "id": "c5bd380e",
   "metadata": {},
   "outputs": [],
   "source": [
    "# Importing Models\n",
    "from sklearn.ensemble import AdaBoostClassifier, RandomForestClassifier, GradientBoostingClassifier\n",
    "from sklearn.tree import DecisionTreeClassifier\n",
    "from xgboost import XGBClassifier\n",
    "from sklearn.naive_bayes import MultinomialNB\n"
   ]
  },
  {
   "cell_type": "code",
   "execution_count": 53,
   "id": "7250651b",
   "metadata": {},
   "outputs": [],
   "source": [
    "SVC=LinearSVC()\n",
    "NB=MultinomialNB()\n",
    "DecTree = DecisionTreeClassifier()\n",
    "xgboost =  XGBClassifier()\n"
   ]
  },
  {
   "cell_type": "code",
   "execution_count": 45,
   "id": "4c58062e",
   "metadata": {},
   "outputs": [],
   "source": [
    "def predict(model):\n",
    "    model.fit(X_train, y_train)\n",
    "    y_predict = model.predict(X_test)\n",
    "    print('Accuracy: %.2f%%' % (accuracy_score(y_test, y_predict) * 100 ))\n",
    "    confusion_matrix_model = confusion_matrix(y_test, y_predict)\n",
    "    print(classification_report(y_test, y_predict))\n",
    "    plt.figure(figsize=(12,8))\n",
    "    ax = plt.subplot()\n",
    "    sns.heatmap(confusion_matrix_model, annot=True, fmt='g', ax = ax)\n",
    "    ax.set_xlabel('Predicted Label')\n",
    "    ax.set_ylabel('Actual Label')\n",
    "    ax.set_title(f'Confusion Matrix - {model}')\n",
    "    ax.xaxis.set_ticklabels(['0','1'])\n",
    "    ax.yaxis.set_ticklabels(['0','1'])"
   ]
  },
  {
   "cell_type": "code",
   "execution_count": null,
   "id": "35609419",
   "metadata": {},
   "outputs": [],
   "source": [
    "y"
   ]
  },
  {
   "cell_type": "code",
   "execution_count": 54,
   "id": "7328e1ce",
   "metadata": {},
   "outputs": [
    {
     "name": "stdout",
     "output_type": "stream",
     "text": [
      "Accuracy: 94.49%\n",
      "              precision    recall  f1-score   support\n",
      "\n",
      "           0       0.67      0.25      0.36         8\n",
      "           1       0.95      0.99      0.97       119\n",
      "\n",
      "    accuracy                           0.94       127\n",
      "   macro avg       0.81      0.62      0.67       127\n",
      "weighted avg       0.93      0.94      0.93       127\n",
      "\n"
     ]
    },
    {
     "data": {
      "image/png": "[encoded data removed]",
      "text/plain": [
       "<Figure size 864x576 with 2 Axes>"
      ]
     },
     "metadata": {
      "needs_background": "light"
     },
     "output_type": "display_data"
    }
   ],
   "source": [
    "predict(xgboost)"
   ]
  },
  {
   "cell_type": "code",
   "execution_count": 47,
   "id": "e1c5e467",
   "metadata": {},
   "outputs": [
    {
     "name": "stdout",
     "output_type": "stream",
     "text": [
      "Accuracy: 92.91%\n",
      "              precision    recall  f1-score   support\n",
      "\n",
      "           0       0.33      0.12      0.18         8\n",
      "           1       0.94      0.98      0.96       119\n",
      "\n",
      "    accuracy                           0.93       127\n",
      "   macro avg       0.64      0.55      0.57       127\n",
      "weighted avg       0.91      0.93      0.91       127\n",
      "\n"
     ]
    },
    {
     "data": {
      "image/png": "[encoded data removed]",
      "text/plain": [
       "<Figure size 864x576 with 2 Axes>"
      ]
     },
     "metadata": {
      "needs_background": "light"
     },
     "output_type": "display_data"
    }
   ],
   "source": [
    "predict(SVC)"
   ]
  },
  {
   "cell_type": "code",
   "execution_count": 48,
   "id": "cd4dcdba",
   "metadata": {},
   "outputs": [
    {
     "name": "stdout",
     "output_type": "stream",
     "text": [
      "Accuracy: 83.46%\n",
      "              precision    recall  f1-score   support\n",
      "\n",
      "           0       0.16      0.38      0.22         8\n",
      "           1       0.95      0.87      0.91       119\n",
      "\n",
      "    accuracy                           0.83       127\n",
      "   macro avg       0.56      0.62      0.56       127\n",
      "weighted avg       0.90      0.83      0.86       127\n",
      "\n"
     ]
    },
    {
     "data": {
      "image/png": "[encoded data removed]",
      "text/plain": [
       "<Figure size 864x576 with 2 Axes>"
      ]
     },
     "metadata": {
      "needs_background": "light"
     },
     "output_type": "display_data"
    }
   ],
   "source": [
    "predict(NB)"
   ]
  },
  {
   "cell_type": "code",
   "execution_count": 49,
   "id": "80cfa90f",
   "metadata": {},
   "outputs": [
    {
     "name": "stdout",
     "output_type": "stream",
     "text": [
      "Accuracy: 89.76%\n",
      "              precision    recall  f1-score   support\n",
      "\n",
      "           0       0.27      0.38      0.32         8\n",
      "           1       0.96      0.93      0.94       119\n",
      "\n",
      "    accuracy                           0.90       127\n",
      "   macro avg       0.61      0.65      0.63       127\n",
      "weighted avg       0.91      0.90      0.91       127\n",
      "\n"
     ]
    },
    {
     "data": {
      "image/png": "[encoded data removed]",
      "text/plain": [
       "<Figure size 864x576 with 2 Axes>"
      ]
     },
     "metadata": {
      "needs_background": "light"
     },
     "output_type": "display_data"
    }
   ],
   "source": [
    "predict(DecTree)"
   ]
  },
  {
   "cell_type": "code",
   "execution_count": 56,
   "id": "12ccde32",
   "metadata": {},
   "outputs": [
    {
     "name": "stdout",
     "output_type": "stream",
     "text": [
      "Fitting 10 folds for each of 10 candidates, totalling 100 fits\n"
     ]
    },
    {
     "data": {
      "text/html": [
       "<style>#sk-container-id-3 {color: black;background-color: white;}#sk-container-id-3 pre{padding: 0;}#sk-container-id-3 div.sk-toggleable {background-color: white;}#sk-container-id-3 label.sk-toggleable__label {cursor: pointer;display: block;width: 100%;margin-bottom: 0;padding: 0.3em;box-sizing: border-box;text-align: center;}#sk-container-id-3 label.sk-toggleable__label-arrow:before {content: \"▸\";float: left;margin-right: 0.25em;color: #696969;}#sk-container-id-3 label.sk-toggleable__label-arrow:hover:before {color: black;}#sk-container-id-3 div.sk-estimator:hover label.sk-toggleable__label-arrow:before {color: black;}#sk-container-id-3 div.sk-toggleable__content {max-height: 0;max-width: 0;overflow: hidden;text-align: left;background-color: #f0f8ff;}#sk-container-id-3 div.sk-toggleable__content pre {margin: 0.2em;color: black;border-radius: 0.25em;background-color: #f0f8ff;}#sk-container-id-3 input.sk-toggleable__control:checked~div.sk-toggleable__content {max-height: 200px;max-width: 100%;overflow: auto;}#sk-container-id-3 input.sk-toggleable__control:checked~label.sk-toggleable__label-arrow:before {content: \"▾\";}#sk-container-id-3 div.sk-estimator input.sk-toggleable__control:checked~label.sk-toggleable__label {background-color: #d4ebff;}#sk-container-id-3 div.sk-label input.sk-toggleable__control:checked~label.sk-toggleable__label {background-color: #d4ebff;}#sk-container-id-3 input.sk-hidden--visually {border: 0;clip: rect(1px 1px 1px 1px);clip: rect(1px, 1px, 1px, 1px);height: 1px;margin: -1px;overflow: hidden;padding: 0;position: absolute;width: 1px;}#sk-container-id-3 div.sk-estimator {font-family: monospace;background-color: #f0f8ff;border: 1px dotted black;border-radius: 0.25em;box-sizing: border-box;margin-bottom: 0.5em;}#sk-container-id-3 div.sk-estimator:hover {background-color: #d4ebff;}#sk-container-id-3 div.sk-parallel-item::after {content: \"\";width: 100%;border-bottom: 1px solid gray;flex-grow: 1;}#sk-container-id-3 div.sk-label:hover label.sk-toggleable__label {background-color: #d4ebff;}#sk-container-id-3 div.sk-serial::before {content: \"\";position: absolute;border-left: 1px solid gray;box-sizing: border-box;top: 0;bottom: 0;left: 50%;z-index: 0;}#sk-container-id-3 div.sk-serial {display: flex;flex-direction: column;align-items: center;background-color: white;padding-right: 0.2em;padding-left: 0.2em;position: relative;}#sk-container-id-3 div.sk-item {position: relative;z-index: 1;}#sk-container-id-3 div.sk-parallel {display: flex;align-items: stretch;justify-content: center;background-color: white;position: relative;}#sk-container-id-3 div.sk-item::before, #sk-container-id-3 div.sk-parallel-item::before {content: \"\";position: absolute;border-left: 1px solid gray;box-sizing: border-box;top: 0;bottom: 0;left: 50%;z-index: -1;}#sk-container-id-3 div.sk-parallel-item {display: flex;flex-direction: column;z-index: 1;position: relative;background-color: white;}#sk-container-id-3 div.sk-parallel-item:first-child::after {align-self: flex-end;width: 50%;}#sk-container-id-3 div.sk-parallel-item:last-child::after {align-self: flex-start;width: 50%;}#sk-container-id-3 div.sk-parallel-item:only-child::after {width: 0;}#sk-container-id-3 div.sk-dashed-wrapped {border: 1px dashed gray;margin: 0 0.4em 0.5em 0.4em;box-sizing: border-box;padding-bottom: 0.4em;background-color: white;}#sk-container-id-3 div.sk-label label {font-family: monospace;font-weight: bold;display: inline-block;line-height: 1.2em;}#sk-container-id-3 div.sk-label-container {text-align: center;}#sk-container-id-3 div.sk-container {/* jupyter's `normalize.less` sets `[hidden] { display: none; }` but bootstrap.min.css set `[hidden] { display: none !important; }` so we also need the `!important` here to be able to override the default hidden behavior on the sphinx rendered scikit-learn.org. See: https://github.com/scikit-learn/scikit-learn/issues/21755 */display: inline-block !important;position: relative;}#sk-container-id-3 div.sk-text-repr-fallback {display: none;}</style><div id=\"sk-container-id-3\" class=\"sk-top-container\"><div class=\"sk-text-repr-fallback\"><pre>RandomizedSearchCV(cv=10,\n",
       "                   estimator=XGBClassifier(base_score=None, booster=None,\n",
       "                                           callbacks=None,\n",
       "                                           colsample_bylevel=None,\n",
       "                                           colsample_bynode=None,\n",
       "                                           colsample_bytree=None,\n",
       "                                           early_stopping_rounds=None,\n",
       "                                           enable_categorical=False,\n",
       "                                           eval_metric=None, feature_types=None,\n",
       "                                           gamma=None, gpu_id=None,\n",
       "                                           grow_policy=None,\n",
       "                                           importance_type=None,\n",
       "                                           interaction_constraints=None,\n",
       "                                           learning_rat...\n",
       "                                           n_estimators=100, n_jobs=None,\n",
       "                                           num_parallel_tree=None,\n",
       "                                           predictor=None, random_state=None, ...),\n",
       "                   n_jobs=1,\n",
       "                   param_distributions={&#x27;colsample_bytree&#x27;: [0.2, 0.5, 0.4, 0.8,\n",
       "                                                             1.0],\n",
       "                                        &#x27;learning_rate&#x27;: [0.01, 0.5, 0.2, 1.0],\n",
       "                                        &#x27;max_depth&#x27;: [3, 4, 5, 6, 7, 8, 9],\n",
       "                                        &#x27;min_child_weight&#x27;: [1, 2, 3, 4],\n",
       "                                        &#x27;n_estimators&#x27;: [100, 150, 200, 250,\n",
       "                                                         300, 350, 400, 450,\n",
       "                                                         500],\n",
       "                                        &#x27;subsample&#x27;: [0.3, 0.5, 0.6, 0.8, 1.0]},\n",
       "                   scoring=&#x27;recall&#x27;, verbose=1)</pre><b>In a Jupyter environment, please rerun this cell to show the HTML representation or trust the notebook. <br />On GitHub, the HTML representation is unable to render, please try loading this page with nbviewer.org.</b></div><div class=\"sk-container\" hidden><div class=\"sk-item sk-dashed-wrapped\"><div class=\"sk-label-container\"><div class=\"sk-label sk-toggleable\"><input class=\"sk-toggleable__control sk-hidden--visually\" id=\"sk-estimator-id-3\" type=\"checkbox\" ><label for=\"sk-estimator-id-3\" class=\"sk-toggleable__label sk-toggleable__label-arrow\">RandomizedSearchCV</label><div class=\"sk-toggleable__content\"><pre>RandomizedSearchCV(cv=10,\n",
       "                   estimator=XGBClassifier(base_score=None, booster=None,\n",
       "                                           callbacks=None,\n",
       "                                           colsample_bylevel=None,\n",
       "                                           colsample_bynode=None,\n",
       "                                           colsample_bytree=None,\n",
       "                                           early_stopping_rounds=None,\n",
       "                                           enable_categorical=False,\n",
       "                                           eval_metric=None, feature_types=None,\n",
       "                                           gamma=None, gpu_id=None,\n",
       "                                           grow_policy=None,\n",
       "                                           importance_type=None,\n",
       "                                           interaction_constraints=None,\n",
       "                                           learning_rat...\n",
       "                                           n_estimators=100, n_jobs=None,\n",
       "                                           num_parallel_tree=None,\n",
       "                                           predictor=None, random_state=None, ...),\n",
       "                   n_jobs=1,\n",
       "                   param_distributions={&#x27;colsample_bytree&#x27;: [0.2, 0.5, 0.4, 0.8,\n",
       "                                                             1.0],\n",
       "                                        &#x27;learning_rate&#x27;: [0.01, 0.5, 0.2, 1.0],\n",
       "                                        &#x27;max_depth&#x27;: [3, 4, 5, 6, 7, 8, 9],\n",
       "                                        &#x27;min_child_weight&#x27;: [1, 2, 3, 4],\n",
       "                                        &#x27;n_estimators&#x27;: [100, 150, 200, 250,\n",
       "                                                         300, 350, 400, 450,\n",
       "                                                         500],\n",
       "                                        &#x27;subsample&#x27;: [0.3, 0.5, 0.6, 0.8, 1.0]},\n",
       "                   scoring=&#x27;recall&#x27;, verbose=1)</pre></div></div></div><div class=\"sk-parallel\"><div class=\"sk-parallel-item\"><div class=\"sk-item\"><div class=\"sk-label-container\"><div class=\"sk-label sk-toggleable\"><input class=\"sk-toggleable__control sk-hidden--visually\" id=\"sk-estimator-id-4\" type=\"checkbox\" ><label for=\"sk-estimator-id-4\" class=\"sk-toggleable__label sk-toggleable__label-arrow\">estimator: XGBClassifier</label><div class=\"sk-toggleable__content\"><pre>XGBClassifier(base_score=None, booster=None, callbacks=None,\n",
       "              colsample_bylevel=None, colsample_bynode=None,\n",
       "              colsample_bytree=None, early_stopping_rounds=None,\n",
       "              enable_categorical=False, eval_metric=None, feature_types=None,\n",
       "              gamma=None, gpu_id=None, grow_policy=None, importance_type=None,\n",
       "              interaction_constraints=None, learning_rate=None, max_bin=None,\n",
       "              max_cat_threshold=None, max_cat_to_onehot=None,\n",
       "              max_delta_step=None, max_depth=None, max_leaves=None,\n",
       "              min_child_weight=None, missing=nan, monotone_constraints=None,\n",
       "              n_estimators=100, n_jobs=None, num_parallel_tree=None,\n",
       "              predictor=None, random_state=None, ...)</pre></div></div></div><div class=\"sk-serial\"><div class=\"sk-item\"><div class=\"sk-estimator sk-toggleable\"><input class=\"sk-toggleable__control sk-hidden--visually\" id=\"sk-estimator-id-5\" type=\"checkbox\" ><label for=\"sk-estimator-id-5\" class=\"sk-toggleable__label sk-toggleable__label-arrow\">XGBClassifier</label><div class=\"sk-toggleable__content\"><pre>XGBClassifier(base_score=None, booster=None, callbacks=None,\n",
       "              colsample_bylevel=None, colsample_bynode=None,\n",
       "              colsample_bytree=None, early_stopping_rounds=None,\n",
       "              enable_categorical=False, eval_metric=None, feature_types=None,\n",
       "              gamma=None, gpu_id=None, grow_policy=None, importance_type=None,\n",
       "              interaction_constraints=None, learning_rate=None, max_bin=None,\n",
       "              max_cat_threshold=None, max_cat_to_onehot=None,\n",
       "              max_delta_step=None, max_depth=None, max_leaves=None,\n",
       "              min_child_weight=None, missing=nan, monotone_constraints=None,\n",
       "              n_estimators=100, n_jobs=None, num_parallel_tree=None,\n",
       "              predictor=None, random_state=None, ...)</pre></div></div></div></div></div></div></div></div></div></div>"
      ],
      "text/plain": [
       "RandomizedSearchCV(cv=10,\n",
       "                   estimator=XGBClassifier(base_score=None, booster=None,\n",
       "                                           callbacks=None,\n",
       "                                           colsample_bylevel=None,\n",
       "                                           colsample_bynode=None,\n",
       "                                           colsample_bytree=None,\n",
       "                                           early_stopping_rounds=None,\n",
       "                                           enable_categorical=False,\n",
       "                                           eval_metric=None, feature_types=None,\n",
       "                                           gamma=None, gpu_id=None,\n",
       "                                           grow_policy=None,\n",
       "                                           importance_type=None,\n",
       "                                           interaction_constraints=None,\n",
       "                                           learning_rat...\n",
       "                                           n_estimators=100, n_jobs=None,\n",
       "                                           num_parallel_tree=None,\n",
       "                                           predictor=None, random_state=None, ...),\n",
       "                   n_jobs=1,\n",
       "                   param_distributions={'colsample_bytree': [0.2, 0.5, 0.4, 0.8,\n",
       "                                                             1.0],\n",
       "                                        'learning_rate': [0.01, 0.5, 0.2, 1.0],\n",
       "                                        'max_depth': [3, 4, 5, 6, 7, 8, 9],\n",
       "                                        'min_child_weight': [1, 2, 3, 4],\n",
       "                                        'n_estimators': [100, 150, 200, 250,\n",
       "                                                         300, 350, 400, 450,\n",
       "                                                         500],\n",
       "                                        'subsample': [0.3, 0.5, 0.6, 0.8, 1.0]},\n",
       "                   scoring='recall', verbose=1)"
      ]
     },
     "execution_count": 56,
     "metadata": {},
     "output_type": "execute_result"
    }
   ],
   "source": [
    "# Tuning XGBoost Classifier\n",
    "from sklearn.model_selection import RandomizedSearchCV\n",
    "\n",
    "grid3 = {'n_estimators': [100,150,200,250,300,350,400,450,500],\n",
    "              'learning_rate': [0.01, 0.5,0.2, 1.0],\n",
    "              'subsample': [0.3,0.5, 0.6,0.8,1.0],\n",
    "              'max_depth': [3, 4, 5, 6, 7, 8, 9],\n",
    "              'colsample_bytree': [0.2,0.5, 0.4,0.8,1.0],\n",
    "              'min_child_weight': [1, 2, 3, 4]}\n",
    "xgb = RandomizedSearchCV(XGBClassifier(),\n",
    "                             param_distributions = grid3,\n",
    "                             cv = 10,\n",
    "                             n_iter = 10, n_jobs = 1, verbose=1,\n",
    "                             scoring = 'recall')\n",
    "xgb.fit(X_train, y_train)"
   ]
  },
  {
   "cell_type": "code",
   "execution_count": 57,
   "id": "e260c49c",
   "metadata": {},
   "outputs": [
    {
     "data": {
      "text/plain": [
       "{'subsample': 0.6,\n",
       " 'n_estimators': 500,\n",
       " 'min_child_weight': 1,\n",
       " 'max_depth': 4,\n",
       " 'learning_rate': 0.5,\n",
       " 'colsample_bytree': 1.0}"
      ]
     },
     "execution_count": 57,
     "metadata": {},
     "output_type": "execute_result"
    }
   ],
   "source": [
    "xgb.best_params_"
   ]
  },
  {
   "cell_type": "code",
   "execution_count": 58,
   "id": "98be0bee",
   "metadata": {},
   "outputs": [
    {
     "name": "stdout",
     "output_type": "stream",
     "text": [
      "Accuracy: 92.13%\n",
      "              precision    recall  f1-score   support\n",
      "\n",
      "           0       0.33      0.25      0.29         8\n",
      "           1       0.95      0.97      0.96       119\n",
      "\n",
      "    accuracy                           0.92       127\n",
      "   macro avg       0.64      0.61      0.62       127\n",
      "weighted avg       0.91      0.92      0.92       127\n",
      "\n"
     ]
    },
    {
     "data": {
      "text/plain": [
       "[Text(0, 0.5, '0'), Text(0, 1.5, '1')]"
      ]
     },
     "execution_count": 58,
     "metadata": {},
     "output_type": "execute_result"
    },
    {
     "data": {
      "image/png": "[encoded data removed]",
      "text/plain": [
       "<Figure size 864x576 with 2 Axes>"
      ]
     },
     "metadata": {
      "needs_background": "light"
     },
     "output_type": "display_data"
    }
   ],
   "source": [
    "tuned_xgb = XGBClassifier(**xgb.best_params_)\n",
    "tuned_xgb.fit(X_train,y_train)\n",
    "y_pred = tuned_xgb.predict(X_test)\n",
    "print('Accuracy: %.2f%%' % (accuracy_score(y_test, y_pred) * 100 ))\n",
    "print(classification_report(y_test, y_pred))\n",
    "confusion_matrix_model = confusion_matrix(y_test, y_pred)\n",
    "plt.figure(figsize=(12,8))\n",
    "ax = plt.subplot()\n",
    "sns.heatmap(confusion_matrix_model, annot=True, fmt='g', ax = ax)\n",
    "ax.set_xlabel('Predicted Label')\n",
    "ax.set_ylabel('Actual Label')\n",
    "ax.set_title('Confusion Matrix - tuned xgbclassifier')\n",
    "ax.xaxis.set_ticklabels(['0','1'])\n",
    "ax.yaxis.set_ticklabels(['0','1'])"
   ]
  },
  {
   "cell_type": "code",
   "execution_count": null,
   "id": "9ad1bcde",
   "metadata": {},
   "outputs": [],
   "source": []
  }
 ],
 "metadata": {
  "kernelspec": {
   "display_name": "Python 3 (ipykernel)",
   "language": "python",
   "name": "python3"
  },
  "language_info": {
   "codemirror_mode": {
    "name": "ipython",
    "version": 3
   },
   "file_extension": ".py",
   "mimetype": "text/x-python",
   "name": "python",
   "nbconvert_exporter": "python",
   "pygments_lexer": "ipython3",
   "version": "3.9.12"
  }
 },
 "nbformat": 4,
 "nbformat_minor": 5
}
